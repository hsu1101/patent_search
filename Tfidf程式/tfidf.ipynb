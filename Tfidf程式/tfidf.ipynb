{
 "cells": [
  {
   "cell_type": "markdown",
   "metadata": {},
   "source": [
    "### <font><font color=\"#2894FF\">連線</font>    "
   ]
  },
  {
   "cell_type": "code",
   "execution_count": 1,
   "metadata": {},
   "outputs": [
    {
     "name": "stdout",
     "output_type": "stream",
     "text": [
      "success\n"
     ]
    }
   ],
   "source": [
    "import mysql.connector\n",
    "from mysql.connector import Error\n",
    "maxdb=mysql.connector.connect(\n",
    "    host ='127.0.0.1',\n",
    "    user = 'root',\n",
    "    password='user'\n",
    ")\n",
    "cursor = maxdb.cursor()\n",
    "print(\"success\")"
   ]
  },
  {
   "cell_type": "markdown",
   "metadata": {},
   "source": [
    "### <font><font color=\"#2894FF\">執行SQL</font>"
   ]
  },
  {
   "cell_type": "code",
   "execution_count": 2,
   "metadata": {},
   "outputs": [],
   "source": [
    "cursor.execute(\"SELECT Abstract FROM test.testcsv2;\")\n"
   ]
  },
  {
   "cell_type": "markdown",
   "metadata": {},
   "source": [
    "### <font><font color=\"#2894FF\">把從資料庫讀入的Abstract放入到list中</font>"
   ]
  },
  {
   "cell_type": "code",
   "execution_count": 3,
   "metadata": {},
   "outputs": [],
   "source": [
    "a=[]\n",
    "for i in cursor:\n",
    "    a.append(i)\n",
    "    #print(\"\\nPublicationDate: %s\"%i)"
   ]
  },
  {
   "cell_type": "code",
   "execution_count": 4,
   "metadata": {},
   "outputs": [
    {
     "data": {
      "text/plain": [
       "('A system includes a rocker arm assembly for operative engagement with a first and second cam. The assembly includes a first arm for operatively engaging the first cam for a first desired lift profile, a second arm for operatively engaging the second cam for a second desired lift profile, where the second arm includes a latch to engage the second arm with the first arm. The latch is responsive to supplied oil pressure and release oil pressure to switch between lift profiles. The system includes the latch coupled to the supplied or released oil pressure to engage the arms before the first and second arms are engaged with the base circle portion of each of the respective first and second cams.',)"
      ]
     },
     "execution_count": 4,
     "metadata": {},
     "output_type": "execute_result"
    }
   ],
   "source": [
    "a[0]"
   ]
  },
  {
   "cell_type": "code",
   "execution_count": 6,
   "metadata": {},
   "outputs": [],
   "source": [
    "import nltk\n",
    "#nltk.download('punkt')\n",
    "#nltk.download('stopwords')\n",
    "import math\n",
    "import string\n",
    "from nltk.corpus import stopwords\n",
    "from collections import Counter\n",
    "from nltk.stem.porter import *\n",
    "from sklearn.feature_extraction.text import TfidfVectorizer\n",
    "\n",
    "\n",
    "str1 = \"\".join(a[0])\n",
    "str2 = \"\".join(a[1])\n",
    "str3 = \"\".join(a[2])\n",
    "\n"
   ]
  },
  {
   "cell_type": "markdown",
   "metadata": {},
   "source": [
    "### <font><font color=\"#2894FF\">第一筆資料的Abstract</font>"
   ]
  },
  {
   "cell_type": "code",
   "execution_count": 7,
   "metadata": {},
   "outputs": [
    {
     "data": {
      "text/plain": [
       "'A system includes a rocker arm assembly for operative engagement with a first and second cam. The assembly includes a first arm for operatively engaging the first cam for a first desired lift profile, a second arm for operatively engaging the second cam for a second desired lift profile, where the second arm includes a latch to engage the second arm with the first arm. The latch is responsive to supplied oil pressure and release oil pressure to switch between lift profiles. The system includes the latch coupled to the supplied or released oil pressure to engage the arms before the first and second arms are engaged with the base circle portion of each of the respective first and second cams.'"
      ]
     },
     "execution_count": 7,
     "metadata": {},
     "output_type": "execute_result"
    }
   ],
   "source": [
    "str1"
   ]
  },
  {
   "cell_type": "markdown",
   "metadata": {},
   "source": [
    "### <font><font color=\"#2894FF\">第二筆資料的Abstract</font>"
   ]
  },
  {
   "cell_type": "code",
   "execution_count": 8,
   "metadata": {},
   "outputs": [
    {
     "data": {
      "text/plain": [
       "'An oil supply control device includes: a memory which stores first master data constituted by predetermined control value; a hydraulic controller which outputs the control value to an adjusting device to cause a hydraulic pressure to coincide with a target hydraulic pressure; and a determination portion which determines whether or not a first difference between an output control value and the control value of the first master data lies within a predetermined allowable range, wherein the hydraulic controller starts to control the adjusting device with use of the control value of the first master data, when the first difference lies within the allowable range, and starts to control the adjusting device with use of the control value of second master data, when the first difference does not lie within the allowable range, the control value of the second master data causing the first difference to lie within the allowable range.'"
      ]
     },
     "execution_count": 8,
     "metadata": {},
     "output_type": "execute_result"
    }
   ],
   "source": [
    "str2"
   ]
  },
  {
   "cell_type": "markdown",
   "metadata": {},
   "source": [
    "### <font><font color=\"#2894FF\">第三筆資料的Abstract</font>"
   ]
  },
  {
   "cell_type": "code",
   "execution_count": 9,
   "metadata": {},
   "outputs": [
    {
     "data": {
      "text/plain": [
       "'A multiple variable valve lift apparatus may include a camshaft rotating by driving of an engine, a cam portion formed in a cylindrical shape having a hollow that the camshaft is inserted into, rotating together with the camshaft, configured to move along an axial direction of the camshaft, and forming a zero cam and a normal cam, a valve opening/closing device configured to be operated by at least one of the zero cam or the normal cam which are formed at the cam portion, an operating device disposed on an exterior circumference of the camshaft so as to move together with the cam portion, and a solenoid configured to selectively move the operating device along an axial direction of the camshaft, in which a journal, which has a radius being equal to a radius of the zero cam, is formed at the cam portion.'"
      ]
     },
     "execution_count": 9,
     "metadata": {},
     "output_type": "execute_result"
    }
   ],
   "source": [
    "str3"
   ]
  },
  {
   "cell_type": "markdown",
   "metadata": {},
   "source": [
    "### <font><font color=\"#2894FF\">移除標點符號</font>"
   ]
  },
  {
   "cell_type": "code",
   "execution_count": 16,
   "metadata": {
    "scrolled": true
   },
   "outputs": [],
   "source": [
    "def get_tokens(text):\n",
    "    lowers = text.lower()\n",
    "    remove_punctuation_map = dict((ord(char), None) for char in string.punctuation)\n",
    "    no_punctuation = lowers.translate(remove_punctuation_map)\n",
    "    tokens = nltk.word_tokenize(no_punctuation)\n",
    "    return tokens\n",
    "\n"
   ]
  },
  {
   "cell_type": "markdown",
   "metadata": {},
   "source": [
    "### <font><font color=\"#2894FF\">移除標點符號的結果</font>"
   ]
  },
  {
   "cell_type": "code",
   "execution_count": 11,
   "metadata": {},
   "outputs": [
    {
     "name": "stdout",
     "output_type": "stream",
     "text": [
      "[('the', 14), ('a', 8), ('second', 8), ('first', 7), ('arm', 6), ('for', 5), ('to', 5), ('includes', 4), ('and', 4), ('with', 3)]\n"
     ]
    }
   ],
   "source": [
    "tokens = get_tokens(str1)\n",
    "count = Counter(tokens)\n",
    "print (count.most_common(10))"
   ]
  },
  {
   "cell_type": "markdown",
   "metadata": {},
   "source": [
    "### <font><font color=\"#2894FF\">移除停詞(a the...)</font>"
   ]
  },
  {
   "cell_type": "code",
   "execution_count": 12,
   "metadata": {},
   "outputs": [],
   "source": [
    "def stem_tokens(tokens, stemmer):\n",
    "    stemmed = []\n",
    "    for item in tokens:\n",
    "        stemmed.append(stemmer.stem(item))\n",
    "    return stemmed\n"
   ]
  },
  {
   "cell_type": "markdown",
   "metadata": {},
   "source": [
    "### <font><font color=\"#2894FF\">移除停詞結果</font>"
   ]
  },
  {
   "cell_type": "code",
   "execution_count": 13,
   "metadata": {},
   "outputs": [
    {
     "name": "stdout",
     "output_type": "stream",
     "text": [
      "[('second', 8), ('first', 7), ('arm', 6), ('includes', 4), ('cam', 3), ('lift', 3), ('latch', 3), ('oil', 3), ('pressure', 3), ('system', 2)]\n"
     ]
    }
   ],
   "source": [
    "tokens = get_tokens(str1)\n",
    "filtered = [w for w in tokens if not w in stopwords.words('english')]\n",
    "count = Counter(filtered)\n",
    "print (count.most_common(10))"
   ]
  },
  {
   "cell_type": "markdown",
   "metadata": {},
   "source": [
    "### <font><font color=\"#2894FF\">把arm arms armed都算為arm</font>"
   ]
  },
  {
   "cell_type": "code",
   "execution_count": 14,
   "metadata": {},
   "outputs": [],
   "source": [
    "tokens = get_tokens(str1)\n",
    "filtered = [w for w in tokens if not w in stopwords.words('english')]\n",
    "stemmer = PorterStemmer()\n",
    "stemmed = stem_tokens(filtered, stemmer)"
   ]
  },
  {
   "cell_type": "code",
   "execution_count": 15,
   "metadata": {},
   "outputs": [
    {
     "name": "stdout",
     "output_type": "stream",
     "text": [
      "[('arm', 8), ('second', 8), ('first', 7), ('engag', 6), ('includ', 4), ('cam', 4), ('oper', 3), ('lift', 3), ('profil', 3), ('latch', 3)]\n"
     ]
    }
   ],
   "source": [
    "count = Counter(stemmed)\n",
    "print(count.most_common(10))"
   ]
  },
  {
   "cell_type": "markdown",
   "metadata": {},
   "source": [
    "### <font><font color=\"#2894FF\">利用sklearn內建套件來計算tfidf</font>"
   ]
  },
  {
   "cell_type": "code",
   "execution_count": 17,
   "metadata": {},
   "outputs": [],
   "source": [
    "from sklearn.feature_extraction.text import TfidfTransformer \n",
    "from sklearn.feature_extraction.text import TfidfVectorizer\n",
    "from sklearn.feature_extraction.text import CountVectorizer\n",
    "import pandas as pd\n",
    "import numpy \n",
    "import math\n",
    "\n",
    "from sklearn.preprocessing import normalize"
   ]
  },
  {
   "cell_type": "code",
   "execution_count": 56,
   "metadata": {},
   "outputs": [],
   "source": [
    "#str\n",
    "#str1\n",
    "#str2"
   ]
  },
  {
   "cell_type": "code",
   "execution_count": 18,
   "metadata": {},
   "outputs": [],
   "source": [
    "pd.set_option('display.max_rows', None)\n",
    "pd.set_option('display.max_columns', None)\n",
    "pd.set_option('display.width', None)\n",
    "pd.set_option('display.max_colwidth', -1)"
   ]
  },
  {
   "cell_type": "markdown",
   "metadata": {},
   "source": [
    "### <font><font color=\"#2894FF\">tfidf的結果</font>"
   ]
  },
  {
   "cell_type": "code",
   "execution_count": 19,
   "metadata": {},
   "outputs": [
    {
     "data": {
      "text/html": [
       "<div>\n",
       "<style scoped>\n",
       "    .dataframe tbody tr th:only-of-type {\n",
       "        vertical-align: middle;\n",
       "    }\n",
       "\n",
       "    .dataframe tbody tr th {\n",
       "        vertical-align: top;\n",
       "    }\n",
       "\n",
       "    .dataframe thead th {\n",
       "        text-align: right;\n",
       "    }\n",
       "</style>\n",
       "<table border=\"1\" class=\"dataframe\">\n",
       "  <thead>\n",
       "    <tr style=\"text-align: right;\">\n",
       "      <th></th>\n",
       "      <th>adjusting</th>\n",
       "      <th>allowable</th>\n",
       "      <th>apparatus</th>\n",
       "      <th>arm</th>\n",
       "      <th>arms</th>\n",
       "      <th>assembly</th>\n",
       "      <th>axial</th>\n",
       "      <th>base</th>\n",
       "      <th>cam</th>\n",
       "      <th>cams</th>\n",
       "      <th>camshaft</th>\n",
       "      <th>cause</th>\n",
       "      <th>causing</th>\n",
       "      <th>circle</th>\n",
       "      <th>circumference</th>\n",
       "      <th>closing</th>\n",
       "      <th>coincide</th>\n",
       "      <th>configured</th>\n",
       "      <th>constituted</th>\n",
       "      <th>control</th>\n",
       "      <th>controller</th>\n",
       "      <th>coupled</th>\n",
       "      <th>cylindrical</th>\n",
       "      <th>data</th>\n",
       "      <th>desired</th>\n",
       "      <th>determination</th>\n",
       "      <th>determines</th>\n",
       "      <th>device</th>\n",
       "      <th>difference</th>\n",
       "      <th>direction</th>\n",
       "      <th>disposed</th>\n",
       "      <th>does</th>\n",
       "      <th>driving</th>\n",
       "      <th>engage</th>\n",
       "      <th>engaged</th>\n",
       "      <th>engagement</th>\n",
       "      <th>engaging</th>\n",
       "      <th>engine</th>\n",
       "      <th>equal</th>\n",
       "      <th>exterior</th>\n",
       "      <th>formed</th>\n",
       "      <th>forming</th>\n",
       "      <th>having</th>\n",
       "      <th>hollow</th>\n",
       "      <th>hydraulic</th>\n",
       "      <th>include</th>\n",
       "      <th>includes</th>\n",
       "      <th>inserted</th>\n",
       "      <th>journal</th>\n",
       "      <th>latch</th>\n",
       "      <th>lie</th>\n",
       "      <th>lies</th>\n",
       "      <th>lift</th>\n",
       "      <th>master</th>\n",
       "      <th>memory</th>\n",
       "      <th>multiple</th>\n",
       "      <th>normal</th>\n",
       "      <th>oil</th>\n",
       "      <th>opening</th>\n",
       "      <th>operated</th>\n",
       "      <th>operating</th>\n",
       "      <th>operative</th>\n",
       "      <th>operatively</th>\n",
       "      <th>output</th>\n",
       "      <th>outputs</th>\n",
       "      <th>portion</th>\n",
       "      <th>predetermined</th>\n",
       "      <th>pressure</th>\n",
       "      <th>profile</th>\n",
       "      <th>profiles</th>\n",
       "      <th>radius</th>\n",
       "      <th>range</th>\n",
       "      <th>release</th>\n",
       "      <th>released</th>\n",
       "      <th>respective</th>\n",
       "      <th>responsive</th>\n",
       "      <th>rocker</th>\n",
       "      <th>rotating</th>\n",
       "      <th>second</th>\n",
       "      <th>selectively</th>\n",
       "      <th>shape</th>\n",
       "      <th>solenoid</th>\n",
       "      <th>starts</th>\n",
       "      <th>stores</th>\n",
       "      <th>supplied</th>\n",
       "      <th>supply</th>\n",
       "      <th>switch</th>\n",
       "      <th>target</th>\n",
       "      <th>use</th>\n",
       "      <th>value</th>\n",
       "      <th>valve</th>\n",
       "      <th>variable</th>\n",
       "      <th>zero</th>\n",
       "    </tr>\n",
       "  </thead>\n",
       "  <tbody>\n",
       "    <tr>\n",
       "      <th>str</th>\n",
       "      <td>0.000000</td>\n",
       "      <td>0.00000</td>\n",
       "      <td>0.000000</td>\n",
       "      <td>0.476666</td>\n",
       "      <td>0.158889</td>\n",
       "      <td>0.158889</td>\n",
       "      <td>0.000000</td>\n",
       "      <td>0.079444</td>\n",
       "      <td>0.181259</td>\n",
       "      <td>0.079444</td>\n",
       "      <td>0.000000</td>\n",
       "      <td>0.000000</td>\n",
       "      <td>0.000000</td>\n",
       "      <td>0.079444</td>\n",
       "      <td>0.000000</td>\n",
       "      <td>0.000000</td>\n",
       "      <td>0.000000</td>\n",
       "      <td>0.000000</td>\n",
       "      <td>0.000000</td>\n",
       "      <td>0.000000</td>\n",
       "      <td>0.000000</td>\n",
       "      <td>0.079444</td>\n",
       "      <td>0.000000</td>\n",
       "      <td>0.000000</td>\n",
       "      <td>0.158889</td>\n",
       "      <td>0.000000</td>\n",
       "      <td>0.000000</td>\n",
       "      <td>0.000000</td>\n",
       "      <td>0.00000</td>\n",
       "      <td>0.000000</td>\n",
       "      <td>0.000000</td>\n",
       "      <td>0.000000</td>\n",
       "      <td>0.000000</td>\n",
       "      <td>0.158889</td>\n",
       "      <td>0.079444</td>\n",
       "      <td>0.079444</td>\n",
       "      <td>0.158889</td>\n",
       "      <td>0.000000</td>\n",
       "      <td>0.000000</td>\n",
       "      <td>0.000000</td>\n",
       "      <td>0.000000</td>\n",
       "      <td>0.000000</td>\n",
       "      <td>0.000000</td>\n",
       "      <td>0.000000</td>\n",
       "      <td>0.00000</td>\n",
       "      <td>0.000000</td>\n",
       "      <td>0.241678</td>\n",
       "      <td>0.000000</td>\n",
       "      <td>0.000000</td>\n",
       "      <td>0.238333</td>\n",
       "      <td>0.000000</td>\n",
       "      <td>0.000000</td>\n",
       "      <td>0.181259</td>\n",
       "      <td>0.000000</td>\n",
       "      <td>0.000000</td>\n",
       "      <td>0.000000</td>\n",
       "      <td>0.000000</td>\n",
       "      <td>0.181259</td>\n",
       "      <td>0.000000</td>\n",
       "      <td>0.000000</td>\n",
       "      <td>0.000000</td>\n",
       "      <td>0.079444</td>\n",
       "      <td>0.158889</td>\n",
       "      <td>0.000000</td>\n",
       "      <td>0.000000</td>\n",
       "      <td>0.046921</td>\n",
       "      <td>0.000000</td>\n",
       "      <td>0.181259</td>\n",
       "      <td>0.158889</td>\n",
       "      <td>0.079444</td>\n",
       "      <td>0.000000</td>\n",
       "      <td>0.00000</td>\n",
       "      <td>0.079444</td>\n",
       "      <td>0.079444</td>\n",
       "      <td>0.079444</td>\n",
       "      <td>0.079444</td>\n",
       "      <td>0.079444</td>\n",
       "      <td>0.000000</td>\n",
       "      <td>0.483356</td>\n",
       "      <td>0.000000</td>\n",
       "      <td>0.000000</td>\n",
       "      <td>0.000000</td>\n",
       "      <td>0.000000</td>\n",
       "      <td>0.000000</td>\n",
       "      <td>0.158889</td>\n",
       "      <td>0.000000</td>\n",
       "      <td>0.079444</td>\n",
       "      <td>0.000000</td>\n",
       "      <td>0.000000</td>\n",
       "      <td>0.000000</td>\n",
       "      <td>0.000000</td>\n",
       "      <td>0.000000</td>\n",
       "      <td>0.000000</td>\n",
       "    </tr>\n",
       "    <tr>\n",
       "      <th>str1</th>\n",
       "      <td>0.166567</td>\n",
       "      <td>0.22209</td>\n",
       "      <td>0.000000</td>\n",
       "      <td>0.000000</td>\n",
       "      <td>0.000000</td>\n",
       "      <td>0.000000</td>\n",
       "      <td>0.000000</td>\n",
       "      <td>0.000000</td>\n",
       "      <td>0.000000</td>\n",
       "      <td>0.000000</td>\n",
       "      <td>0.000000</td>\n",
       "      <td>0.055522</td>\n",
       "      <td>0.055522</td>\n",
       "      <td>0.000000</td>\n",
       "      <td>0.000000</td>\n",
       "      <td>0.000000</td>\n",
       "      <td>0.055522</td>\n",
       "      <td>0.000000</td>\n",
       "      <td>0.055522</td>\n",
       "      <td>0.555224</td>\n",
       "      <td>0.111045</td>\n",
       "      <td>0.000000</td>\n",
       "      <td>0.000000</td>\n",
       "      <td>0.277612</td>\n",
       "      <td>0.000000</td>\n",
       "      <td>0.055522</td>\n",
       "      <td>0.055522</td>\n",
       "      <td>0.168905</td>\n",
       "      <td>0.22209</td>\n",
       "      <td>0.000000</td>\n",
       "      <td>0.000000</td>\n",
       "      <td>0.055522</td>\n",
       "      <td>0.000000</td>\n",
       "      <td>0.000000</td>\n",
       "      <td>0.000000</td>\n",
       "      <td>0.000000</td>\n",
       "      <td>0.000000</td>\n",
       "      <td>0.000000</td>\n",
       "      <td>0.000000</td>\n",
       "      <td>0.000000</td>\n",
       "      <td>0.000000</td>\n",
       "      <td>0.000000</td>\n",
       "      <td>0.000000</td>\n",
       "      <td>0.000000</td>\n",
       "      <td>0.22209</td>\n",
       "      <td>0.000000</td>\n",
       "      <td>0.042226</td>\n",
       "      <td>0.000000</td>\n",
       "      <td>0.000000</td>\n",
       "      <td>0.000000</td>\n",
       "      <td>0.111045</td>\n",
       "      <td>0.111045</td>\n",
       "      <td>0.000000</td>\n",
       "      <td>0.277612</td>\n",
       "      <td>0.055522</td>\n",
       "      <td>0.000000</td>\n",
       "      <td>0.000000</td>\n",
       "      <td>0.042226</td>\n",
       "      <td>0.000000</td>\n",
       "      <td>0.000000</td>\n",
       "      <td>0.000000</td>\n",
       "      <td>0.000000</td>\n",
       "      <td>0.000000</td>\n",
       "      <td>0.055522</td>\n",
       "      <td>0.055522</td>\n",
       "      <td>0.032792</td>\n",
       "      <td>0.111045</td>\n",
       "      <td>0.084452</td>\n",
       "      <td>0.000000</td>\n",
       "      <td>0.000000</td>\n",
       "      <td>0.000000</td>\n",
       "      <td>0.22209</td>\n",
       "      <td>0.000000</td>\n",
       "      <td>0.000000</td>\n",
       "      <td>0.000000</td>\n",
       "      <td>0.000000</td>\n",
       "      <td>0.000000</td>\n",
       "      <td>0.000000</td>\n",
       "      <td>0.084452</td>\n",
       "      <td>0.000000</td>\n",
       "      <td>0.000000</td>\n",
       "      <td>0.000000</td>\n",
       "      <td>0.111045</td>\n",
       "      <td>0.055522</td>\n",
       "      <td>0.000000</td>\n",
       "      <td>0.055522</td>\n",
       "      <td>0.000000</td>\n",
       "      <td>0.055522</td>\n",
       "      <td>0.111045</td>\n",
       "      <td>0.388657</td>\n",
       "      <td>0.000000</td>\n",
       "      <td>0.000000</td>\n",
       "      <td>0.000000</td>\n",
       "    </tr>\n",
       "    <tr>\n",
       "      <th>str2</th>\n",
       "      <td>0.000000</td>\n",
       "      <td>0.00000</td>\n",
       "      <td>0.076424</td>\n",
       "      <td>0.000000</td>\n",
       "      <td>0.000000</td>\n",
       "      <td>0.000000</td>\n",
       "      <td>0.152848</td>\n",
       "      <td>0.000000</td>\n",
       "      <td>0.523100</td>\n",
       "      <td>0.000000</td>\n",
       "      <td>0.458543</td>\n",
       "      <td>0.000000</td>\n",
       "      <td>0.000000</td>\n",
       "      <td>0.000000</td>\n",
       "      <td>0.076424</td>\n",
       "      <td>0.076424</td>\n",
       "      <td>0.000000</td>\n",
       "      <td>0.229271</td>\n",
       "      <td>0.000000</td>\n",
       "      <td>0.000000</td>\n",
       "      <td>0.000000</td>\n",
       "      <td>0.000000</td>\n",
       "      <td>0.076424</td>\n",
       "      <td>0.000000</td>\n",
       "      <td>0.000000</td>\n",
       "      <td>0.000000</td>\n",
       "      <td>0.000000</td>\n",
       "      <td>0.174367</td>\n",
       "      <td>0.00000</td>\n",
       "      <td>0.152848</td>\n",
       "      <td>0.076424</td>\n",
       "      <td>0.000000</td>\n",
       "      <td>0.076424</td>\n",
       "      <td>0.000000</td>\n",
       "      <td>0.000000</td>\n",
       "      <td>0.000000</td>\n",
       "      <td>0.000000</td>\n",
       "      <td>0.076424</td>\n",
       "      <td>0.076424</td>\n",
       "      <td>0.076424</td>\n",
       "      <td>0.229271</td>\n",
       "      <td>0.076424</td>\n",
       "      <td>0.076424</td>\n",
       "      <td>0.076424</td>\n",
       "      <td>0.00000</td>\n",
       "      <td>0.076424</td>\n",
       "      <td>0.000000</td>\n",
       "      <td>0.076424</td>\n",
       "      <td>0.076424</td>\n",
       "      <td>0.000000</td>\n",
       "      <td>0.000000</td>\n",
       "      <td>0.000000</td>\n",
       "      <td>0.058122</td>\n",
       "      <td>0.000000</td>\n",
       "      <td>0.000000</td>\n",
       "      <td>0.076424</td>\n",
       "      <td>0.152848</td>\n",
       "      <td>0.000000</td>\n",
       "      <td>0.076424</td>\n",
       "      <td>0.076424</td>\n",
       "      <td>0.152848</td>\n",
       "      <td>0.000000</td>\n",
       "      <td>0.000000</td>\n",
       "      <td>0.000000</td>\n",
       "      <td>0.000000</td>\n",
       "      <td>0.180548</td>\n",
       "      <td>0.000000</td>\n",
       "      <td>0.000000</td>\n",
       "      <td>0.000000</td>\n",
       "      <td>0.000000</td>\n",
       "      <td>0.152848</td>\n",
       "      <td>0.00000</td>\n",
       "      <td>0.000000</td>\n",
       "      <td>0.000000</td>\n",
       "      <td>0.000000</td>\n",
       "      <td>0.000000</td>\n",
       "      <td>0.000000</td>\n",
       "      <td>0.152848</td>\n",
       "      <td>0.000000</td>\n",
       "      <td>0.076424</td>\n",
       "      <td>0.076424</td>\n",
       "      <td>0.076424</td>\n",
       "      <td>0.000000</td>\n",
       "      <td>0.000000</td>\n",
       "      <td>0.000000</td>\n",
       "      <td>0.000000</td>\n",
       "      <td>0.000000</td>\n",
       "      <td>0.000000</td>\n",
       "      <td>0.000000</td>\n",
       "      <td>0.000000</td>\n",
       "      <td>0.152848</td>\n",
       "      <td>0.076424</td>\n",
       "      <td>0.229271</td>\n",
       "    </tr>\n",
       "  </tbody>\n",
       "</table>\n",
       "</div>"
      ],
      "text/plain": [
       "      adjusting  allowable  apparatus       arm      arms  assembly     axial  \\\n",
       "str   0.000000   0.00000    0.000000   0.476666  0.158889  0.158889  0.000000   \n",
       "str1  0.166567   0.22209    0.000000   0.000000  0.000000  0.000000  0.000000   \n",
       "str2  0.000000   0.00000    0.076424   0.000000  0.000000  0.000000  0.152848   \n",
       "\n",
       "          base       cam      cams  camshaft     cause   causing    circle  \\\n",
       "str   0.079444  0.181259  0.079444  0.000000  0.000000  0.000000  0.079444   \n",
       "str1  0.000000  0.000000  0.000000  0.000000  0.055522  0.055522  0.000000   \n",
       "str2  0.000000  0.523100  0.000000  0.458543  0.000000  0.000000  0.000000   \n",
       "\n",
       "      circumference   closing  coincide  configured  constituted   control  \\\n",
       "str   0.000000       0.000000  0.000000  0.000000    0.000000     0.000000   \n",
       "str1  0.000000       0.000000  0.055522  0.000000    0.055522     0.555224   \n",
       "str2  0.076424       0.076424  0.000000  0.229271    0.000000     0.000000   \n",
       "\n",
       "      controller   coupled  cylindrical      data   desired  determination  \\\n",
       "str   0.000000    0.079444  0.000000     0.000000  0.158889  0.000000        \n",
       "str1  0.111045    0.000000  0.000000     0.277612  0.000000  0.055522        \n",
       "str2  0.000000    0.000000  0.076424     0.000000  0.000000  0.000000        \n",
       "\n",
       "      determines    device  difference  direction  disposed      does  \\\n",
       "str   0.000000    0.000000  0.00000     0.000000   0.000000  0.000000   \n",
       "str1  0.055522    0.168905  0.22209     0.000000   0.000000  0.055522   \n",
       "str2  0.000000    0.174367  0.00000     0.152848   0.076424  0.000000   \n",
       "\n",
       "       driving    engage   engaged  engagement  engaging    engine     equal  \\\n",
       "str   0.000000  0.158889  0.079444  0.079444    0.158889  0.000000  0.000000   \n",
       "str1  0.000000  0.000000  0.000000  0.000000    0.000000  0.000000  0.000000   \n",
       "str2  0.076424  0.000000  0.000000  0.000000    0.000000  0.076424  0.076424   \n",
       "\n",
       "      exterior    formed   forming    having    hollow  hydraulic   include  \\\n",
       "str   0.000000  0.000000  0.000000  0.000000  0.000000  0.00000    0.000000   \n",
       "str1  0.000000  0.000000  0.000000  0.000000  0.000000  0.22209    0.000000   \n",
       "str2  0.076424  0.229271  0.076424  0.076424  0.076424  0.00000    0.076424   \n",
       "\n",
       "      includes  inserted   journal     latch       lie      lies      lift  \\\n",
       "str   0.241678  0.000000  0.000000  0.238333  0.000000  0.000000  0.181259   \n",
       "str1  0.042226  0.000000  0.000000  0.000000  0.111045  0.111045  0.000000   \n",
       "str2  0.000000  0.076424  0.076424  0.000000  0.000000  0.000000  0.058122   \n",
       "\n",
       "        master    memory  multiple    normal       oil   opening  operated  \\\n",
       "str   0.000000  0.000000  0.000000  0.000000  0.181259  0.000000  0.000000   \n",
       "str1  0.277612  0.055522  0.000000  0.000000  0.042226  0.000000  0.000000   \n",
       "str2  0.000000  0.000000  0.076424  0.152848  0.000000  0.076424  0.076424   \n",
       "\n",
       "      operating  operative  operatively    output   outputs   portion  \\\n",
       "str   0.000000   0.079444   0.158889     0.000000  0.000000  0.046921   \n",
       "str1  0.000000   0.000000   0.000000     0.055522  0.055522  0.032792   \n",
       "str2  0.152848   0.000000   0.000000     0.000000  0.000000  0.180548   \n",
       "\n",
       "      predetermined  pressure   profile  profiles    radius    range  \\\n",
       "str   0.000000       0.181259  0.158889  0.079444  0.000000  0.00000   \n",
       "str1  0.111045       0.084452  0.000000  0.000000  0.000000  0.22209   \n",
       "str2  0.000000       0.000000  0.000000  0.000000  0.152848  0.00000   \n",
       "\n",
       "       release  released  respective  responsive    rocker  rotating  \\\n",
       "str   0.079444  0.079444  0.079444    0.079444    0.079444  0.000000   \n",
       "str1  0.000000  0.000000  0.000000    0.000000    0.000000  0.000000   \n",
       "str2  0.000000  0.000000  0.000000    0.000000    0.000000  0.152848   \n",
       "\n",
       "        second  selectively     shape  solenoid    starts    stores  supplied  \\\n",
       "str   0.483356  0.000000     0.000000  0.000000  0.000000  0.000000  0.158889   \n",
       "str1  0.084452  0.000000     0.000000  0.000000  0.111045  0.055522  0.000000   \n",
       "str2  0.000000  0.076424     0.076424  0.076424  0.000000  0.000000  0.000000   \n",
       "\n",
       "        supply    switch    target       use     value     valve  variable  \\\n",
       "str   0.000000  0.079444  0.000000  0.000000  0.000000  0.000000  0.000000   \n",
       "str1  0.055522  0.000000  0.055522  0.111045  0.388657  0.000000  0.000000   \n",
       "str2  0.000000  0.000000  0.000000  0.000000  0.000000  0.152848  0.076424   \n",
       "\n",
       "          zero  \n",
       "str   0.000000  \n",
       "str1  0.000000  \n",
       "str2  0.229271  "
      ]
     },
     "execution_count": 19,
     "metadata": {},
     "output_type": "execute_result"
    }
   ],
   "source": [
    "vectorizer = TfidfVectorizer(sublinear_tf=False, stop_words='english', token_pattern=\"(?u)\\\\b\\\\w+\\\\b\", smooth_idf=True, norm='l2')\n",
    "tfidf = vectorizer.fit_transform([str1,str2,str3])\n",
    "df_tfidf = pd.DataFrame(tfidf.toarray(),columns=vectorizer.get_feature_names(), index=['str', 'str1', 'str2'])\n",
    "\n",
    "df_tfidf\n"
   ]
  },
  {
   "cell_type": "code",
   "execution_count": null,
   "metadata": {},
   "outputs": [],
   "source": []
  }
 ],
 "metadata": {
  "kernelspec": {
   "display_name": "Python 3",
   "language": "python",
   "name": "python3"
  },
  "language_info": {
   "codemirror_mode": {
    "name": "ipython",
    "version": 3
   },
   "file_extension": ".py",
   "mimetype": "text/x-python",
   "name": "python",
   "nbconvert_exporter": "python",
   "pygments_lexer": "ipython3",
   "version": "3.8.3"
  }
 },
 "nbformat": 4,
 "nbformat_minor": 2
}
