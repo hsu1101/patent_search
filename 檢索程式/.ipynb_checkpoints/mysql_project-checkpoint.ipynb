{
 "cells": [
  {
   "cell_type": "code",
   "execution_count": 4,
   "metadata": {},
   "outputs": [
    {
     "name": "stdout",
     "output_type": "stream",
     "text": [
      " * Serving Flask app \"__main__\" (lazy loading)\n",
      " * Environment: production\n",
      "   WARNING: This is a development server. Do not use it in a production deployment.\n",
      "   Use a production WSGI server instead.\n",
      " * Debug mode: off\n"
     ]
    },
    {
     "name": "stderr",
     "output_type": "stream",
     "text": [
      " * Running on http://127.0.0.1:5000/ (Press CTRL+C to quit)\n",
      "127.0.0.1 - - [21/Dec/2020 16:25:46] \"\u001b[37mGET / HTTP/1.1\u001b[0m\" 200 -\n",
      "127.0.0.1 - - [21/Dec/2020 16:25:51] \"\u001b[37mPOST /select HTTP/1.1\u001b[0m\" 200 -\n"
     ]
    }
   ],
   "source": [
    "import pymysql\n",
    "from flask import Flask , render_template, request\n",
    "app = Flask(__name__)\n",
    "@app.route('/')\n",
    "def index():\n",
    "    return render_template(\"hello.html\")\n",
    "@app.route('/select',methods=['POST'])\n",
    "def select():\n",
    "    term1 = request.form.get(\"t1\")\n",
    "    term2 = request.form.get(\"t2\")\n",
    "    conn = pymysql.connect('localhost', user=\"root\", passwd=\"user\", db=\"test\", cursorclass = pymysql.cursors.DictCursor)\n",
    "    chose1=request.form.get(\"chose\")\n",
    "    f1 =request.form.get(\"field1\")\n",
    "    f2 =request.form.get(\"field2\")\n",
    "    if chose1==\"and\":\n",
    "          sql = \"SELECT * FROM test.testcsv2 where \" + f1 + \" like '%\" + term1 + \"%' and \"+f2+\" like'%\" + term2 + \"%';\"\n",
    "    elif chose1==\"or\":\n",
    "          sql = \"SELECT * FROM test.testcsv2 where \" + f1 + \" like '%\" + term1 + \"%' or \" + f2 + \" like'%\" + term2 + \"%';\"\n",
    "    #sql = \"SELECT * FROM schema.datacsv where PublicationNumber like '%\"+trem1+\"%';\"\n",
    "    cursor = conn.cursor()\n",
    "    cursor.execute(sql)\n",
    "    datas = cursor.fetchall()\n",
    "    return render_template('scarch.html', items=datas)\n",
    "if __name__ == '__main__':\n",
    "    app.run()\n"
   ]
  }
 ],
 "metadata": {
  "kernelspec": {
   "display_name": "Python 3",
   "language": "python",
   "name": "python3"
  },
  "language_info": {
   "codemirror_mode": {
    "name": "ipython",
    "version": 3
   },
   "file_extension": ".py",
   "mimetype": "text/x-python",
   "name": "python",
   "nbconvert_exporter": "python",
   "pygments_lexer": "ipython3",
   "version": "3.8.3"
  }
 },
 "nbformat": 4,
 "nbformat_minor": 2
}
