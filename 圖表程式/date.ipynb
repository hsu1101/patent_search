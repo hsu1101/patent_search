{
 "cells": [
  {
   "cell_type": "markdown",
   "metadata": {},
   "source": [
    "### <font><font color=\"#2894FF\">連線</font>"
   ]
  },
  {
   "cell_type": "code",
   "execution_count": 1,
   "metadata": {},
   "outputs": [
    {
     "name": "stdout",
     "output_type": "stream",
     "text": [
      "success\n"
     ]
    }
   ],
   "source": [
    "import mysql.connector\n",
    "from mysql.connector import Error\n",
    "maxdb=mysql.connector.connect(\n",
    "    host ='127.0.0.1',\n",
    "    user = 'root',\n",
    "    password='user'\n",
    ")\n",
    "cursor = maxdb.cursor()\n",
    "print(\"success\")"
   ]
  },
  {
   "cell_type": "markdown",
   "metadata": {},
   "source": [
    "### <font><font color=\"#2894FF\">執行SQL</font>"
   ]
  },
  {
   "cell_type": "code",
   "execution_count": 3,
   "metadata": {},
   "outputs": [],
   "source": [
    "cursor.execute(\"SELECT PublicationDate,ApplicationDate FROM test.testcsv2;\")\n"
   ]
  },
  {
   "cell_type": "markdown",
   "metadata": {},
   "source": [
    "### <font><font color=\"#2894FF\">讀入資料放入list</font>"
   ]
  },
  {
   "cell_type": "code",
   "execution_count": 4,
   "metadata": {},
   "outputs": [],
   "source": [
    "a=[]\n",
    "b=[]\n",
    "for i,k in cursor:\n",
    "    a.append(i)\n",
    "    b.append(k)\n",
    "    #print(\"\\nApplicationDate: %s\"%k)"
   ]
  },
  {
   "cell_type": "code",
   "execution_count": 5,
   "metadata": {},
   "outputs": [
    {
     "data": {
      "text/plain": [
       "3980"
      ]
     },
     "execution_count": 5,
     "metadata": {},
     "output_type": "execute_result"
    }
   ],
   "source": [
    "len(a)"
   ]
  },
  {
   "cell_type": "code",
   "execution_count": 6,
   "metadata": {},
   "outputs": [
    {
     "data": {
      "text/plain": [
       "3980"
      ]
     },
     "execution_count": 6,
     "metadata": {},
     "output_type": "execute_result"
    }
   ],
   "source": [
    "len(b)"
   ]
  },
  {
   "cell_type": "markdown",
   "metadata": {},
   "source": [
    "### <font><font color=\"#2894FF\">處理PublicationDate的年份</font>"
   ]
  },
  {
   "cell_type": "code",
   "execution_count": 40,
   "metadata": {},
   "outputs": [],
   "source": [
    "list=[]\n",
    "num=[0,0,0,0,0,0,0,0,0,0]\n",
    "for i in range(len(a)):\n",
    "    str = \"\".join(a[i])\n",
    "    list=str.split('-')\n",
    "    if(list[0]=='2010'):\n",
    "        num[0]=num[0]+1\n",
    "    elif(list[0]=='2011'):\n",
    "        num[1]=num[1]+1\n",
    "    elif(list[0]=='2012'):\n",
    "        num[2]=num[2]+1\n",
    "    elif(list[0]=='2013'):\n",
    "        num[3]=num[3]+1\n",
    "    elif(list[0]=='2014'):\n",
    "        num[4]=num[4]+1\n",
    "    elif(list[0]=='2015'):\n",
    "        num[5]=num[5]+1\n",
    "    elif(list[0]=='2016'):\n",
    "        num[6]=num[6]+1\n",
    "    elif(list[0]=='2017'):\n",
    "        num[7]=num[7]+1\n",
    "    elif(list[0]=='2018'):\n",
    "        num[8]=num[8]+1\n",
    "    elif(list[0]=='2019'):\n",
    "        num[9]=num[9]+1\n"
   ]
  },
  {
   "cell_type": "code",
   "execution_count": 42,
   "metadata": {},
   "outputs": [
    {
     "data": {
      "text/plain": [
       "[0, 379, 396, 402, 476, 445, 381, 450, 504, 547]"
      ]
     },
     "execution_count": 42,
     "metadata": {},
     "output_type": "execute_result"
    }
   ],
   "source": [
    "num"
   ]
  },
  {
   "cell_type": "markdown",
   "metadata": {},
   "source": [
    "### <font><font color=\"#2894FF\">處理ApplicationDate的年份</font>"
   ]
  },
  {
   "cell_type": "code",
   "execution_count": 53,
   "metadata": {},
   "outputs": [],
   "source": [
    "list1=[]\n",
    "num1=[0,0,0,0,0,0,0,0,0,0]\n",
    "for i in range(len(b)):\n",
    "    str = \"\".join(b[i])\n",
    "    list1=str.split('-')\n",
    "    if(list1[0]=='2010'):\n",
    "        num1[0]=num1[0]+1\n",
    "    elif(list1[0]=='2011'):\n",
    "        num1[1]=num1[1]+1\n",
    "    elif(list1[0]=='2012'):\n",
    "        num1[2]=num1[2]+1\n",
    "    elif(list1[0]=='2013'):\n",
    "        num1[3]=num1[3]+1\n",
    "    elif(list1[0]=='2014'):\n",
    "        num1[4]=num1[4]+1\n",
    "    elif(list1[0]=='2015'):\n",
    "        num1[5]=num1[5]+1\n",
    "    elif(list1[0]=='2016'):\n",
    "        num1[6]=num1[6]+1\n",
    "    elif(list1[0]=='2017'):\n",
    "        num1[7]=num1[7]+1\n",
    "    elif(list1[0]=='2018'):\n",
    "        num1[8]=num1[8]+1\n",
    "    elif(list1[0]=='2019'):\n",
    "        num1[9]=num1[9]+1\n",
    "        "
   ]
  },
  {
   "cell_type": "code",
   "execution_count": 54,
   "metadata": {},
   "outputs": [
    {
     "data": {
      "text/plain": [
       "[352, 318, 365, 390, 424, 471, 491, 329, 102, 2]"
      ]
     },
     "execution_count": 54,
     "metadata": {},
     "output_type": "execute_result"
    }
   ],
   "source": [
    "num1"
   ]
  },
  {
   "cell_type": "markdown",
   "metadata": {},
   "source": [
    "### <font><font color=\"#2894FF\">PublicationDate</font>"
   ]
  },
  {
   "cell_type": "code",
   "execution_count": 60,
   "metadata": {},
   "outputs": [
    {
     "data": {
      "text/plain": [
       "([<matplotlib.axis.XTick at 0x289713fa6d8>,\n",
       "  <matplotlib.axis.XTick at 0x289714787f0>,\n",
       "  <matplotlib.axis.XTick at 0x28971478518>,\n",
       "  <matplotlib.axis.XTick at 0x289714b9898>,\n",
       "  <matplotlib.axis.XTick at 0x289714b9d30>,\n",
       "  <matplotlib.axis.XTick at 0x289714c2160>,\n",
       "  <matplotlib.axis.XTick at 0x289714c25c0>,\n",
       "  <matplotlib.axis.XTick at 0x289714c2a90>,\n",
       "  <matplotlib.axis.XTick at 0x289714c2f60>,\n",
       "  <matplotlib.axis.XTick at 0x289714c94a8>],\n",
       " <a list of 10 Text xticklabel objects>)"
      ]
     },
     "execution_count": 60,
     "metadata": {},
     "output_type": "execute_result"
    },
    {
     "data": {
      "image/png": "[encoded data removed]",
      "text/plain": [
       "<Figure size 432x288 with 1 Axes>"
      ]
     },
     "metadata": {
      "needs_background": "light"
     },
     "output_type": "display_data"
    }
   ],
   "source": [
    "import matplotlib.pyplot as plt\n",
    "year=[2010,2011,2012,2013,2014,2015,2016,2017,2018,2019]\n",
    "\n",
    "t=[i for i,_ in enumerate(year)]\n",
    "plt.bar(t,num)\n",
    "plt.ylabel(\"Number\")\n",
    "plt.title(\"Patent\")\n",
    "plt.xticks([i for i,_ in enumerate(year)],year)\n"
   ]
  },
  {
   "cell_type": "code",
   "execution_count": null,
   "metadata": {},
   "outputs": [],
   "source": [
    "#applicationdate"
   ]
  },
  {
   "cell_type": "markdown",
   "metadata": {},
   "source": [
    "### <font><font color=\"#2894FF\">ApplicationDate</font>"
   ]
  },
  {
   "cell_type": "code",
   "execution_count": 61,
   "metadata": {},
   "outputs": [
    {
     "data": {
      "text/plain": [
       "([<matplotlib.axis.XTick at 0x28971501048>,\n",
       "  <matplotlib.axis.XTick at 0x289714fe940>,\n",
       "  <matplotlib.axis.XTick at 0x289714fe668>,\n",
       "  <matplotlib.axis.XTick at 0x28971528f28>,\n",
       "  <matplotlib.axis.XTick at 0x28971532400>,\n",
       "  <matplotlib.axis.XTick at 0x289715328d0>,\n",
       "  <matplotlib.axis.XTick at 0x28971532048>,\n",
       "  <matplotlib.axis.XTick at 0x28971532d30>,\n",
       "  <matplotlib.axis.XTick at 0x2897153c4e0>,\n",
       "  <matplotlib.axis.XTick at 0x2897153c9b0>],\n",
       " <a list of 10 Text xticklabel objects>)"
      ]
     },
     "execution_count": 61,
     "metadata": {},
     "output_type": "execute_result"
    },
    {
     "data": {
      "image/png": "[encoded data removed]",
      "text/plain": [
       "<Figure size 432x288 with 1 Axes>"
      ]
     },
     "metadata": {
      "needs_background": "light"
     },
     "output_type": "display_data"
    }
   ],
   "source": [
    "import matplotlib.pyplot as plt\n",
    "year=[2010,2011,2012,2013,2014,2015,2016,2017,2018,2019]\n",
    "\n",
    "t=[i for i,_ in enumerate(year)]\n",
    "plt.bar(t,num1)\n",
    "plt.ylabel(\"Number\")\n",
    "plt.title(\"Patent\")\n",
    "plt.xticks([i for i,_ in enumerate(year)],year)\n"
   ]
  }
 ],
 "metadata": {
  "kernelspec": {
   "display_name": "Python 3",
   "language": "python",
   "name": "python3"
  },
  "language_info": {
   "codemirror_mode": {
    "name": "ipython",
    "version": 3
   },
   "file_extension": ".py",
   "mimetype": "text/x-python",
   "name": "python",
   "nbconvert_exporter": "python",
   "pygments_lexer": "ipython3",
   "version": "3.8.3"
  }
 },
 "nbformat": 4,
 "nbformat_minor": 2
}
